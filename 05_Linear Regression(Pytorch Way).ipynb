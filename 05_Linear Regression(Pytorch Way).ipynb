{
 "cells": [
  {
   "cell_type": "markdown",
   "id": "574c4409",
   "metadata": {},
   "source": [
    "### 이전에 구축한 모델"
   ]
  },
  {
   "cell_type": "code",
   "execution_count": 27,
   "id": "73e0af1b",
   "metadata": {},
   "outputs": [
    {
     "name": "stdout",
     "output_type": "stream",
     "text": [
      "\t grad:  1.0 2.0 tensor(-2.)\n",
      "\t grad:  2.0 4.0 tensor(-7.8400)\n",
      "\t grad:  3.0 6.0 tensor(-16.2288)\n",
      "progress: 0 tensor(7.3159)\n",
      "\t grad:  1.0 2.0 tensor(-1.4786)\n",
      "\t grad:  2.0 4.0 tensor(-5.7962)\n",
      "\t grad:  3.0 6.0 tensor(-11.9981)\n",
      "progress: 1 tensor(3.9988)\n",
      "\t grad:  1.0 2.0 tensor(-1.0932)\n",
      "\t grad:  2.0 4.0 tensor(-4.2852)\n",
      "\t grad:  3.0 6.0 tensor(-8.8704)\n",
      "progress: 2 tensor(2.1857)\n",
      "\t grad:  1.0 2.0 tensor(-0.8082)\n",
      "\t grad:  2.0 4.0 tensor(-3.1681)\n",
      "\t grad:  3.0 6.0 tensor(-6.5580)\n",
      "progress: 3 tensor(1.1946)\n",
      "\t grad:  1.0 2.0 tensor(-0.5975)\n",
      "\t grad:  2.0 4.0 tensor(-2.3422)\n",
      "\t grad:  3.0 6.0 tensor(-4.8484)\n",
      "progress: 4 tensor(0.6530)\n",
      "\t grad:  1.0 2.0 tensor(-0.4417)\n",
      "\t grad:  2.0 4.0 tensor(-1.7316)\n",
      "\t grad:  3.0 6.0 tensor(-3.5845)\n",
      "progress: 5 tensor(0.3569)\n",
      "\t grad:  1.0 2.0 tensor(-0.3266)\n",
      "\t grad:  2.0 4.0 tensor(-1.2802)\n",
      "\t grad:  3.0 6.0 tensor(-2.6500)\n",
      "progress: 6 tensor(0.1951)\n",
      "\t grad:  1.0 2.0 tensor(-0.2414)\n",
      "\t grad:  2.0 4.0 tensor(-0.9465)\n",
      "\t grad:  3.0 6.0 tensor(-1.9592)\n",
      "progress: 7 tensor(0.1066)\n",
      "\t grad:  1.0 2.0 tensor(-0.1785)\n",
      "\t grad:  2.0 4.0 tensor(-0.6997)\n",
      "\t grad:  3.0 6.0 tensor(-1.4485)\n",
      "progress: 8 tensor(0.0583)\n",
      "\t grad:  1.0 2.0 tensor(-0.1320)\n",
      "\t grad:  2.0 4.0 tensor(-0.5173)\n",
      "\t grad:  3.0 6.0 tensor(-1.0709)\n",
      "progress: 9 tensor(0.0319)\n"
     ]
    }
   ],
   "source": [
    "import torch\n",
    "from torch.autograd import Variable\n",
    "\n",
    "x_data = [1.0, 2.0, 3.0]\n",
    "y_data = [2.0, 4.0, 6.0]\n",
    "w = Variable(torch.Tensor([1.0]), requires_grad = True)\n",
    "\n",
    "def forward(x):\n",
    "    return w*x\n",
    "\n",
    "def loss(x, y):\n",
    "    y_pred = forward(x)\n",
    "    return (y_pred - y)**2\n",
    "\n",
    "for epoch in range(10):\n",
    "    for x_val, y_val in zip(x_data, y_data):\n",
    "        l = loss(x_val, y_val)\n",
    "        l.backward()\n",
    "        print(\"\\t grad: \", x_val, y_val, w.grad.data[0])\n",
    "        w.data = w.data - 0.01 * w.grad.data\n",
    "        \n",
    "        w.grad.data.zero_()\n",
    "        \n",
    "    print(\"progress:\", epoch, l.data[0])"
   ]
  },
  {
   "cell_type": "markdown",
   "id": "5f3a4929",
   "metadata": {},
   "source": [
    "## Pytorch Rhythm\n",
    "1. Variables를 이용하여 클래스로 모델을 만든다.\n",
    "2. loss와 optimizer를 만든다.\n",
    "3. training cycle을 만든다."
   ]
  },
  {
   "cell_type": "markdown",
   "id": "2d18e1f4",
   "metadata": {},
   "source": [
    "### 1. Variables를 이용하여 클래스로 모델을 만든다."
   ]
  },
  {
   "cell_type": "code",
   "execution_count": 28,
   "id": "11cc8f0e",
   "metadata": {},
   "outputs": [],
   "source": [
    "import torch\n",
    "from torch.autograd import Variable\n",
    "\n",
    "x_data = Variable(torch.Tensor([[1.0], [2.0], [3.0]]))\n",
    "y_data = Variable(torch.Tensor([[2.0], [4.0], [6.0]]))\n",
    "\n"
   ]
  },
  {
   "cell_type": "code",
   "execution_count": 29,
   "id": "ca787072",
   "metadata": {},
   "outputs": [],
   "source": [
    "class Model(torch.nn.Module):\n",
    "    def __init__(self):\n",
    "        super(Model, self).__init__()\n",
    "        self.linear = torch.nn.Linear(1, 1)\n",
    "    \n",
    "    def forward(self, x):\n",
    "        y_pred = self.linear(x)\n",
    "        return y_pred\n",
    "    \n",
    "model = Model()"
   ]
  },
  {
   "cell_type": "markdown",
   "id": "4a306b4c",
   "metadata": {},
   "source": [
    "### 2. loss와 optimizer 구축"
   ]
  },
  {
   "cell_type": "code",
   "execution_count": 30,
   "id": "eafe11e0",
   "metadata": {},
   "outputs": [],
   "source": [
    "# criterion : 기준. 어떤 loss를 줄일 것인지에 대해 명시한다. \n",
    "# MSE 방식의 loss 구한다. size_average = False로 하면 Loss를 발생시키는 것들의 평균으로 나누지 않는다.\n",
    "criterion = torch.nn.MSELoss(size_average = False)\n",
    "# 직접 빼는 대신에 SGD optimizer를 이용한다.\n",
    "optimizer = torch.optim.SGD(model.parameters(), lr = 0.01)\n"
   ]
  },
  {
   "cell_type": "markdown",
   "id": "dc19c6db",
   "metadata": {},
   "source": [
    "### 3. Training : forward, loss, backward, step"
   ]
  },
  {
   "cell_type": "markdown",
   "id": "ca7d3a79",
   "metadata": {},
   "source": [
    "- zero.grad()\n",
    ": \n",
    "> NN model 인스턴스를 만든 후, \n",
    "> 역전파 단계를 실행하기 전에 변화도를 0으로 만든다. \n",
    "> autograd의 추적기록을 피하기 위해 학습 가능한 매개변수를 갖는 Tensor를 직접 0으로 조작하여 모델의 가중치를 갱신할 때 사용한다. \n",
    "> 왜냐하면 .backward()를 호출할 때마다 변화도가 buffer에 누적되기 때문이라고 한다. \n",
    "> **변화도를 업데이트 하기 전에 초기화**"
   ]
  },
  {
   "cell_type": "code",
   "execution_count": 31,
   "id": "41b11993",
   "metadata": {},
   "outputs": [],
   "source": [
    "for epoch in range(500):\n",
    "    # forward 수행\n",
    "    y_pred = model(x_data)\n",
    "    \n",
    "    # loss 계산 및 출력\n",
    "    loss = criterion(y_pred, y_data)\n",
    "    \n",
    "    # w_data = w_data - 0.01 * w.grad.data 의 과정.\n",
    "    optimizer.zero_grad()\n",
    "    loss.backward()\n",
    "    optimizer.step()\n",
    "    "
   ]
  },
  {
   "cell_type": "code",
   "execution_count": 32,
   "id": "a3eb2f5d",
   "metadata": {},
   "outputs": [
    {
     "name": "stdout",
     "output_type": "stream",
     "text": [
      "predict(after training 4 tensor(7.9806)\n"
     ]
    }
   ],
   "source": [
    "hour_var = Variable(torch.Tensor([[4.0]]))\n",
    "print(\"predict(after training\", 4, model.forward(hour_var).data[0][0])"
   ]
  },
  {
   "cell_type": "code",
   "execution_count": null,
   "id": "fdfe3b86",
   "metadata": {},
   "outputs": [],
   "source": []
  }
 ],
 "metadata": {
  "kernelspec": {
   "display_name": "Python 3",
   "language": "python",
   "name": "python3"
  },
  "language_info": {
   "codemirror_mode": {
    "name": "ipython",
    "version": 3
   },
   "file_extension": ".py",
   "mimetype": "text/x-python",
   "name": "python",
   "nbconvert_exporter": "python",
   "pygments_lexer": "ipython3",
   "version": "3.8.8"
  }
 },
 "nbformat": 4,
 "nbformat_minor": 5
}
